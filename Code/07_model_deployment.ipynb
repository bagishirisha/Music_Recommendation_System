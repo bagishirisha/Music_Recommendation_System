{
 "cells": [
  {
   "cell_type": "markdown",
   "id": "983026cb-e433-48b5-a3b6-2cb49e7b666d",
   "metadata": {},
   "source": [
    "## STEP 7 : Model Deployment "
   ]
  },
  {
   "cell_type": "markdown",
   "id": "76fe6fc9-2c4f-435d-8d8a-57ecb7760437",
   "metadata": {},
   "source": [
    "### Import Necessary Libraries"
   ]
  },
  {
   "cell_type": "code",
   "execution_count": 1,
   "id": "843f5200-02c6-4c1b-9e38-e674bc3820e5",
   "metadata": {},
   "outputs": [],
   "source": [
    "import pandas as pd\n",
    "import numpy as np\n",
    "import os\n",
    "from sklearn.preprocessing import StandardScaler\n",
    "from scipy.spatial.distance import cdist\n",
    "import ipywidgets as widgets\n",
    "from IPython.display import display, clear_output, HTML\n",
    "import warnings\n",
    "\n",
    "warnings.filterwarnings(\"ignore\")"
   ]
  },
  {
   "cell_type": "markdown",
   "id": "c34da28a-a9d0-482e-8306-26668e24616a",
   "metadata": {},
   "source": [
    "### 7.1 Load datasets from file paths"
   ]
  },
  {
   "cell_type": "code",
   "execution_count": 2,
   "id": "578160d7-f637-4e72-a8b7-341b1887b504",
   "metadata": {},
   "outputs": [
    {
     "name": "stdout",
     "output_type": "stream",
     "text": [
      "Info: Data and genre data successfully loaded.\n"
     ]
    }
   ],
   "source": [
    "# Paths to datasets\n",
    "data_path = '..\\Dataset\\data_cleaned_clustering.csv'\n",
    "genre_data_path = '..\\Dataset\\genre_data_cleaned_clustering.csv'\n",
    "\n",
    "# Check if files exist and load them\n",
    "if os.path.exists(data_path) and os.path.exists(genre_data_path):\n",
    "    data_original = pd.read_csv(data_path)\n",
    "    genre_data_original = pd.read_csv(genre_data_path)\n",
    "    print(\"Info: Data and genre data successfully loaded.\")\n",
    "else:\n",
    "    print(\"Attention: One or both files are not found in the specified directory.\")\n",
    "    raise FileNotFoundError(\"Dataset files are missing. Please check the paths.\")\n",
    "\n",
    "# Create copies of the datasets for manipulation\n",
    "data = data_original.copy()\n",
    "genre_data = genre_data_original.copy()"
   ]
  },
  {
   "cell_type": "markdown",
   "id": "9e413b5b-33c5-4703-9cb1-b824a7c110b4",
   "metadata": {},
   "source": [
    "\n",
    "### 7.2 Types of Recommendation System"
   ]
  },
  {
   "cell_type": "markdown",
   "id": "6f00d039",
   "metadata": {},
   "source": [
    "### 7.2.1. Collaborative Filtering\n",
    "\n",
    "Collaborative Filtering helps suggest songs you might like by looking at what other people who like the same music listen to.\n",
    "\n",
    "#### 7.2.1.1 User-based Collaborative Filtering\n",
    "- **What it does**: It’s like getting song recommendations from a friend who has similar taste in music. The system finds other users who like what you like and suggests songs they enjoy.\n",
    "- **Why it’s good**: It’s personalized — you get suggestions that fit your own music taste.\n",
    "\n",
    "#### 7.2.1.2 Item-based Collaborative Filtering\n",
    "- **What it does**: If you like a specific song, this method finds other songs that fans of that song also like and recommends them to you.\n",
    "- **Why it’s good**: It’s reliable because it doesn’t depend much on changing user preferences; it focuses on the songs themselves.\n",
    "\n",
    "**Note**: Both methods need a lot of data about what songs people listen to work well.\n",
    "\n",
    "### 7.2.2. Content-Based Filtering\n",
    "\n",
    "This method recommends songs by looking at the features of the songs themselves.\n",
    "\n",
    "- **Example**: If you like songs with lots of guitar or a specific beat, the system will find other songs with similar music features and recommend them to you.\n",
    "- **Why it’s useful**: It gives you songs that match the musical styles you like, without needing to know what others like.\n",
    "\n",
    "### 7.2.3. Hybrid Models\n",
    "\n",
    "Hybrid models mix both collaborative and content-based methods to give you better song recommendations.\n",
    "\n",
    "- **How it works**: These models use both what you like and what songs are like to make suggestions. This way, even if there’s not a lot of data on what you’ve listened to, you can still get good recommendations.\n",
    "- **Why it’s beneficial**: It helps fill in the gaps when there’s limited information about user preferences or new songs, making sure you still get recommendations that you are likely to enjoy.\n"
   ]
  },
  {
   "cell_type": "markdown",
   "id": "170328ec",
   "metadata": {},
   "source": [
    "## 7.3 Choosing the Best Model for Music Recommendation\n",
    "\n",
    "After analyzing our datasets, `genre_data_cleaned.csv` and `data_cleaned.csv`, we need to decide on the most suitable recommendation model based on the characteristics of each dataset.\n",
    "\n",
    "### 7.3.1 Dataset Overview\n",
    "\n",
    "#### 1. Genre Data (`genre_data_cleaned.csv`)\n",
    "This dataset provides extensive descriptive metadata about songs, which includes:\n",
    "\n",
    "- **Audio Features**: Metrics such as acousticness, danceability, energy, and instrumentalness.\n",
    "- **Categorical Data**: Attributes like genre, popularity category, and mode category, which describe the emotional and stylistic characteristics of the songs.\n",
    "- **Artist and Song Information**: Details on the artists and individual tracks.\n",
    "\n",
    "**Appropriate Model**: Given the rich content-based features, this dataset is ideal for a **Content-Based Filtering** recommendation system.\n",
    "\n",
    "#### 2. Data Cleaned (`data_cleaned.csv`)\n",
    "This dataset includes:\n",
    "\n",
    "- **Song Features**: Contains attributes similar to the genre dataset, such as acousticness, danceability, and energy.\n",
    "- **Lack of User-Specific Interaction Data**: It does not contain user-item interactions like ratings or play history, which are crucial for collaborative filtering.\n",
    "\n",
    "**Appropriate Model**: The absence of user interaction data makes this dataset less suited for collaborative filtering and more appropriate for a **Content-Based Filtering** approach.\n",
    "\n",
    "#### Conclusion\n",
    "\n",
    "**Model Choice**\n",
    "- The extensive details in the `data_cleaned.csv` make it ideal for analyzing and recommending songs based on their inherent characteristics.\n",
    "- We will proceed with a **Content-Based Filtering** model using the rich metadata available in our datasets.\n",
    "- **Technique**\n",
    "- We will implement **Cosine Similarity** to identify and recommend songs with similar features, aiming to improve user satisfaction by aligning recommendations closely with their preferences.\n"
   ]
  },
  {
   "cell_type": "markdown",
   "id": "d91786fa",
   "metadata": {},
   "source": [
    "## 7.4 Music Recommendation System"
   ]
  },
  {
   "cell_type": "markdown",
   "id": "26812e09",
   "metadata": {},
   "source": [
    "**Obective**\n",
    "\n",
    "Recommendation system is set up with a user interface to interact with the user and suggest personalized recommendations based on various features.\n",
    "\n",
    "**Overview**\n",
    "\n",
    "**User Interface**\n",
    "\n",
    "Users can interact with dropdowns to select songs, artists, or genres for receiving recommendations.Three dropdowns are created for the user to choose:\n",
    "- All Songs: Displays a list of all songs.\n",
    "- By Artist: Displays songs filtered by the artist.\n",
    "- By Genre: Displays songs filtered by genre.\n",
    "These dropdowns allow the user to select songs for which recommendations will be generated.\n",
    "\n",
    "**Recommendation Logic**\n",
    "- Based on the song selected, it computes and displays 5 similar songs with the cosine distance and cluster alignment.\n",
    "- The recommendation screen also shows the average cosine distance between the selected song and recommended songs.\n",
    "- It calculates and shows the alignment of clusters between the selected song and the recommended ones, providing feedback based on the alignment score:\n",
    "    - Excellent match (alignment > 0.8)\n",
    "    - Good match (alignment > 0.5)\n",
    "    - Poor match (alignment <= 0.5)\n"
   ]
  },
  {
   "cell_type": "code",
   "execution_count": null,
   "id": "319e299a-54d7-4478-bc83-b2fd7764e622",
   "metadata": {},
   "outputs": [
    {
     "data": {
      "application/vnd.jupyter.widget-view+json": {
       "model_id": "81b127f2af7f4948b748b4f1808c1af9",
       "version_major": 2,
       "version_minor": 0
      },
      "text/plain": [
       "VBox(children=(Tab(children=(Dropdown(description='🎵 All Songs:', layout=Layout(width='50%'), options=((\"Camby…"
      ]
     },
     "metadata": {},
     "output_type": "display_data"
    }
   ],
   "source": [
    "# Shuffling the dataset for efficient processing\n",
    "data_cleaned_shuffled = data.sample(frac=1, random_state=42).reset_index(drop=True)\n",
    "\n",
    "# Relevant numeric columns for recommendations\n",
    "number_cols = [\n",
    "    'valence', 'year', 'acousticness', 'danceability', 'duration_min', \n",
    "    'energy', 'explicit', 'instrumentalness', 'key', 'liveness', \n",
    "    'loudness_scaled', 'mode', 'popularity', 'speechiness', 'tempo'\n",
    "]\n",
    "\n",
    "# Initialize and fit the scaler\n",
    "scaler = StandardScaler()\n",
    "scaler.fit(data_cleaned_shuffled[number_cols])\n",
    "\n",
    "# Dropdowns for selecting songs, artists, or genres\n",
    "all_songs_dropdown = widgets.Dropdown(description='🎵 All Songs:', layout={'width': '50%'})\n",
    "artist_dropdown = widgets.Dropdown(description='🎤 By Artist:', layout={'width': '50%'})\n",
    "genre_dropdown = widgets.Dropdown(description='🎧 By Genre:', layout={'width': '50%'})\n",
    "\n",
    "# Populate dropdowns with formatted options\n",
    "all_songs_dropdown.options = [(f\"{row['name']} ({row['year']}) - {', '.join(eval(row['artists']))} 🎶\", index) for index, row in data_cleaned_shuffled.iterrows()]\n",
    "artist_dropdown.options = [(artist, index) for index, artist in enumerate(data_cleaned_shuffled['artists'].apply(lambda x: ', '.join(eval(x))).unique())]\n",
    "genre_dropdown.options = [(genre, index) for index, genre in enumerate(genre_data['genres'].unique())]\n",
    "\n",
    "# Outputs for displaying recommendations and metrics\n",
    "output = widgets.Output()\n",
    "metrics_output = widgets.Output()\n",
    "\n",
    "# Function to recommend songs and update dropdown for further recommendations\n",
    "def recommend_songs(song_index, data, genre_data, n_songs=5):\n",
    "    song_data = data.iloc[song_index]\n",
    "    song_features = scaler.transform([song_data[number_cols]])\n",
    "    data_features = scaler.transform(data[number_cols])\n",
    "    distances = cdist(song_features, data_features, 'cosine')[0]\n",
    "    indices = np.argsort(distances)[:n_songs + 6]  # Avoid self-recommendation\n",
    "    recommended_songs = data.iloc[indices].head(n_songs + 1)\n",
    "    \n",
    "    # Merge genre data using cluster label from genre_data\n",
    "    recommended_songs = recommended_songs.copy()\n",
    "    genre_map = genre_data.set_index('cluster')['genres'].to_dict()  # Map cluster to genre\n",
    "    recommended_songs['genre'] = recommended_songs['cluster_label'].map(genre_map)\n",
    "    \n",
    "    return recommended_songs[recommended_songs['id'] != song_data['id']], distances[indices[1:n_songs + 1]]\n",
    "\n",
    "# Function to display recommendations and metrics\n",
    "def display_recommendations(change):\n",
    "    song_index = change.new\n",
    "    recommendations, distances = recommend_songs(song_index, data_cleaned_shuffled, genre_data, 5)\n",
    "    \n",
    "    with output:\n",
    "        clear_output()\n",
    "        display(HTML(\"<strong>🎧 Recommendations:</strong>\"))\n",
    "        \n",
    "        recommendations_dropdown = widgets.Dropdown(\n",
    "            options=[(f\"🎶 {row['name']} - {', '.join(eval(row['artists']))} 🎤 - {row['genre']} 🎧\", idx) for idx, row in recommendations.iterrows()],\n",
    "            description='Further Recommendations:',\n",
    "            layout={'width': '50%'}\n",
    "        )\n",
    "        \n",
    "        recommendations_dropdown.observe(display_recommendations, names='value')\n",
    "        display(recommendations_dropdown)\n",
    "        \n",
    "        # Filter the DataFrame to show only necessary columns and display it, including genre\n",
    "        filtered_df = recommendations[['name', 'year', 'artists', 'duration_min', 'genre', 'cluster_label']]\n",
    "        filtered_df['artists'] = filtered_df['artists'].apply(lambda x: ', '.join(eval(x)))\n",
    "        display(HTML(filtered_df.to_html(index=False)))  # Displaying the filtered DataFrame\n",
    "    \n",
    "    with metrics_output:\n",
    "        clear_output()\n",
    "        average_distance = np.mean(distances)\n",
    "        input_cluster = data_cleaned_shuffled.iloc[song_index]['cluster_label']\n",
    "        \n",
    "        # Calculate the alignment of clusters\n",
    "        alignment = np.mean(recommendations['cluster_label'] == input_cluster)\n",
    "        display(HTML(f\"<strong>📏 Average Cosine Distance:</strong> {average_distance:.4f}<br><strong>🔄 Cluster Alignment:</strong> {alignment:.2f}\"))\n",
    "        \n",
    "        # Conclusion based on alignment score\n",
    "        if alignment > 0.8:\n",
    "            conclusion = \"👌 Excellent match! 🔥\"\n",
    "        elif alignment > 0.5:\n",
    "            conclusion = \"👍 Good match!\"\n",
    "        else:\n",
    "            conclusion = \"⚠️ Poor match, consider refining features or the model.\"\n",
    "        \n",
    "        display(HTML(f\"<strong>📝 Conclusion:</strong> {conclusion}\"))\n",
    "\n",
    "# Connect dropdowns to the recommendation function\n",
    "all_songs_dropdown.observe(display_recommendations, names='value')\n",
    "artist_dropdown.observe(display_recommendations, names='value')\n",
    "genre_dropdown.observe(display_recommendations, names='value')\n",
    "\n",
    "# Display UI components\n",
    "tab = widgets.Tab([all_songs_dropdown, artist_dropdown, genre_dropdown])\n",
    "tab.set_title(0, '🎶 All Songs')\n",
    "tab.set_title(1, '🎤 By Artist')\n",
    "tab.set_title(2, '🎧 By Genre')\n",
    "\n",
    "# Set up the layout and show everything on the UI\n",
    "display(widgets.VBox([tab, output, metrics_output]))\n"
   ]
  },
  {
   "cell_type": "markdown",
   "id": "b1bac27c",
   "metadata": {},
   "source": [
    "## 7.5 Future Scope\n",
    "\n",
    "**Real Time Processing**\n",
    "- Build user profiles, integrate real-time feedback (likes/dislikes) and apply collaborative filtering for more accurate, personalized suggestions.\n",
    "\n",
    "**Advanced Models**\n",
    "- Implement Hybrid models combining collaborative, content-based and context-aware filtering for better recommendations.\n",
    "\n",
    "**Enanced Features**\n",
    "- Incorporate audio features, sentiment analysis of lyrics and temporal trends better recommendations.\n"
   ]
  }
 ],
 "metadata": {
  "kernelspec": {
   "display_name": "base",
   "language": "python",
   "name": "python3"
  },
  "language_info": {
   "codemirror_mode": {
    "name": "ipython",
    "version": 3
   },
   "file_extension": ".py",
   "mimetype": "text/x-python",
   "name": "python",
   "nbconvert_exporter": "python",
   "pygments_lexer": "ipython3",
   "version": "3.12.7"
  }
 },
 "nbformat": 4,
 "nbformat_minor": 5
}
